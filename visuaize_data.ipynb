{
 "cells": [
  {
   "cell_type": "code",
   "execution_count": null,
   "metadata": {},
   "outputs": [],
   "source": [
    "import json\n",
    "\n",
    "DATASET_DIR = \"data/phrase-node-dataset/infos/v6\""
   ]
  },
  {
   "cell_type": "code",
   "execution_count": null,
   "metadata": {},
   "outputs": [],
   "source": [
    "with open(DATASET_DIR + \"/info-appleinsider.com\", \"r\") as html_json_file:\n",
    "    html_json = json.load(html_json_file)"
   ]
  },
  {
   "cell_type": "code",
   "execution_count": null,
   "metadata": {},
   "outputs": [],
   "source": [
    "html_json.keys()"
   ]
  },
  {
   "cell_type": "code",
   "execution_count": null,
   "metadata": {},
   "outputs": [],
   "source": [
    "infos = html_json[\"info\"]\n",
    "len(infos)"
   ]
  },
  {
   "cell_type": "code",
   "execution_count": null,
   "metadata": {
    "scrolled": true
   },
   "outputs": [],
   "source": [
    "visible_infos = [info for info in infos if \"hidden\" not in info or not info[\"hidden\"]]\n",
    "len(visible_infos)"
   ]
  },
  {
   "cell_type": "code",
   "execution_count": null,
   "metadata": {
    "scrolled": true
   },
   "outputs": [],
   "source": [
    "#visible_infos[:3]"
   ]
  },
  {
   "cell_type": "code",
   "execution_count": null,
   "metadata": {},
   "outputs": [],
   "source": [
    "divs = \"\"\n",
    "\n",
    "for info in visible_infos:\n",
    "    top, left, width, height = info[\"top\"], info[\"left\"], info[\"width\"], info[\"height\"]\n",
    "    text = info[\"text\"] if \"text\" in info and info[\"text\"] != \"\" else \"\"\n",
    "    tag = info[\"tag\"]\n",
    "    xid = info[\"xid\"] if \"xid\" in info else None\n",
    "    if tag == \"t\":\n",
    "        description = text\n",
    "    else:\n",
    "        description = tag + \": \" + text\n",
    "    divs += \"\"\"<div id=\"{}\" class=\"box\" style=\"position: absolute; top: {}px; left: {}px; width: {}px; height: {}px;\">{}</div>\"\"\".format(\n",
    "        xid, top, left, width, height, description # TODO escape\n",
    "    ) + \"\\n\""
   ]
  },
  {
   "cell_type": "code",
   "execution_count": null,
   "metadata": {},
   "outputs": [],
   "source": [
    "html_content = \"\"\"<!DOCTYPE html>\n",
    "<head>\n",
    "<meta charset=\"utf-8\">\n",
    "<style>\n",
    "  .box {\n",
    "    border: 1px solid #000;\n",
    "  }\n",
    "</style>\n",
    "</head>\n",
    "<body>\n",
    "\"\"\" + divs + \"</body>\""
   ]
  },
  {
   "cell_type": "code",
   "execution_count": null,
   "metadata": {},
   "outputs": [],
   "source": [
    "with open(\"data.html\", \"w\") as f:\n",
    "    f.write(html_content)"
   ]
  },
  {
   "cell_type": "code",
   "execution_count": null,
   "metadata": {},
   "outputs": [],
   "source": [
    "!open data.html"
   ]
  },
  {
   "cell_type": "code",
   "execution_count": null,
   "metadata": {},
   "outputs": [],
   "source": []
  }
 ],
 "metadata": {
  "kernelspec": {
   "display_name": "Python 3",
   "language": "python",
   "name": "python3"
  },
  "language_info": {
   "codemirror_mode": {
    "name": "ipython",
    "version": 3
   },
   "file_extension": ".py",
   "mimetype": "text/x-python",
   "name": "python",
   "nbconvert_exporter": "python",
   "pygments_lexer": "ipython3",
   "version": "3.7.2"
  }
 },
 "nbformat": 4,
 "nbformat_minor": 2
}
